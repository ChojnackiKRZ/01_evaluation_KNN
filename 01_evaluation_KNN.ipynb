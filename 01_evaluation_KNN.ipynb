{
  "nbformat": 4,
  "nbformat_minor": 0,
  "metadata": {
    "colab": {
      "name": "01_evaluation_KNN.ipynb",
      "provenance": [],
      "authorship_tag": "ABX9TyM4DVr0fhMwruKYrxc86PQW",
      "include_colab_link": true
    },
    "kernelspec": {
      "name": "python3",
      "display_name": "Python 3"
    },
    "language_info": {
      "name": "python"
    }
  },
  "cells": [
    {
      "cell_type": "markdown",
      "metadata": {
        "id": "view-in-github",
        "colab_type": "text"
      },
      "source": [
        "<a href=\"https://colab.research.google.com/github/ChojnackiKRZ/01_evaluation_KNN/blob/main/01_evaluation_KNN.ipynb\" target=\"_parent\"><img src=\"https://colab.research.google.com/assets/colab-badge.svg\" alt=\"Open In Colab\"/></a>"
      ]
    },
    {
      "cell_type": "code",
      "execution_count": 13,
      "metadata": {
        "id": "lENW-XRxU6Ik"
      },
      "outputs": [],
      "source": [
        "from sklearn.datasets import load_wine\n",
        "from sklearn.dummy import DummyClassifier\n",
        "from sklearn.model_selection import train_test_split\n",
        "import joblib\n",
        "from sklearn.neighbors import KNeighborsClassifier\n",
        "from matplotlib import pyplot as plt\n",
        "from sklearn.preprocessing import StandardScaler\n",
        "from os import chdir"
      ]
    },
    {
      "cell_type": "code",
      "source": [
        "wine = load_wine()\n",
        "\n",
        "X, y = wine.data, wine.target"
      ],
      "metadata": {
        "id": "cH4Uh3uaVA2Y"
      },
      "execution_count": 2,
      "outputs": []
    },
    {
      "cell_type": "code",
      "source": [
        "X_train, X_test, y_train, y_test = train_test_split(X, y, random_state=0)"
      ],
      "metadata": {
        "id": "MjTX863bVIKN"
      },
      "execution_count": 4,
      "outputs": []
    },
    {
      "cell_type": "code",
      "source": [
        "dummy = DummyClassifier(strategy='prior')\n",
        "dummy.fit(X_train, y_train)\n",
        "dummy.score(X_test, y_test)"
      ],
      "metadata": {
        "colab": {
          "base_uri": "https://localhost:8080/"
        },
        "id": "v1tr8-PwVVPP",
        "outputId": "31079274-24ad-488a-ef00-3092833b2189"
      },
      "execution_count": 11,
      "outputs": [
        {
          "output_type": "execute_result",
          "data": {
            "text/plain": [
              "0.4666666666666667"
            ]
          },
          "metadata": {},
          "execution_count": 11
        }
      ]
    },
    {
      "cell_type": "code",
      "source": [
        "file = 'dummy_model.sav'\n",
        "joblib.dump(dummy, filename = file)"
      ],
      "metadata": {
        "colab": {
          "base_uri": "https://localhost:8080/"
        },
        "id": "bBBE8mfJWlvL",
        "outputId": "7c7c4e73-4488-4551-9001-a340ccb96b39"
      },
      "execution_count": 17,
      "outputs": [
        {
          "output_type": "execute_result",
          "data": {
            "text/plain": [
              "['dummy_model.sav']"
            ]
          },
          "metadata": {},
          "execution_count": 17
        }
      ]
    },
    {
      "cell_type": "code",
      "source": [
        "loaded_dummy_model = joblib.load(filename = file)"
      ],
      "metadata": {
        "id": "uH7H6DaUW7ND"
      },
      "execution_count": 18,
      "outputs": []
    },
    {
      "cell_type": "code",
      "source": [
        "#KNN only should be given odd number of neighbors\n",
        "\n",
        "train_KNN_list = []\n",
        "test_KNN_list = []\n",
        "x_values = []\n",
        "\n",
        "for n in range(1, 11):\n",
        "    if n % 2 != 0:\n",
        "      knn = KNeighborsClassifier(n_neighbors=n)\n",
        "      knn.fit(X_train, y_train)\n",
        "      train_KNN_list.append(knn.score(X_train, y_train))\n",
        "      test_KNN_list.append(knn.score(X_test, y_test))\n",
        "      x_values.append(n)\n",
        "  \n",
        "print(x_values)\n",
        "print(train_KNN_list)\n",
        "print(test_KNN_list)\n"
      ],
      "metadata": {
        "colab": {
          "base_uri": "https://localhost:8080/"
        },
        "id": "IBLkADp4XQK8",
        "outputId": "135a5ffc-2f54-4d8f-a1ad-162e99838b58"
      },
      "execution_count": 35,
      "outputs": [
        {
          "output_type": "stream",
          "name": "stdout",
          "text": [
            "[1, 3, 5, 7, 9]\n",
            "[1.0, 0.8872180451127819, 0.7894736842105263, 0.7819548872180451, 0.7518796992481203]\n",
            "[0.7555555555555555, 0.7333333333333333, 0.7333333333333333, 0.7777777777777778, 0.7111111111111111]\n"
          ]
        }
      ]
    },
    {
      "cell_type": "code",
      "source": [
        "xi = list(range(len(x_values)))\n",
        "plt.plot(xi, train_KNN_list, label = 'Train')\n",
        "plt.plot(xi, test_KNN_list, label = 'Test')\n",
        "plt.xlabel(\"Number of neighbors\")\n",
        "plt.ylabel(\"Accuracy\")\n",
        "plt.title(\"KNN Classifier\")\n",
        "plt.xticks(xi, x_values)\n",
        "plt.legend()\n",
        "plt.show()"
      ],
      "metadata": {
        "colab": {
          "base_uri": "https://localhost:8080/",
          "height": 295
        },
        "id": "xcGQMjOpYHLA",
        "outputId": "3315e536-8518-460f-ef5c-382cdc2dec2b"
      },
      "execution_count": 43,
      "outputs": [
        {
          "output_type": "display_data",
          "data": {
            "text/plain": [
              "<Figure size 432x288 with 1 Axes>"
            ],
            "image/png": "[encoded data removed]"
          },
          "metadata": {
            "needs_background": "light"
          }
        }
      ]
    }
  ]
}